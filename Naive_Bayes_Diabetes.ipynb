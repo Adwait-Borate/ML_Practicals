{
 "cells": [
  {
   "cell_type": "code",
   "execution_count": null,
   "metadata": {
    "id": "7RxP9MbLmj8R"
   },
   "outputs": [],
   "source": [
    "import numpy as np\n",
    "import pandas as pd\n",
    "import matplotlib.pyplot as plt\n",
    "import seaborn as sns\n",
    "import warnings\n",
    "from sklearn.model_selection import train_test_split\n",
    "from sklearn.metrics import confusion_matrix, classification_report, accuracy_score, precision_score, recall_score, f1_score\n",
    "from sklearn.preprocessing import StandardScaler, LabelEncoder\n",
    "from sklearn.naive_bayes import GaussianNB\n",
    "# Uncomment the following if you want to use cross-validation\n",
    "from sklearn.model_selection import cross_val_score\n",
    "warnings.filterwarnings('ignore')"
   ]
  },
  {
   "cell_type": "code",
   "execution_count": null,
   "metadata": {
    "id": "fLjYJ2FHnBsl"
   },
   "outputs": [],
   "source": [
    "df = pd.read_csv(\"diabetes.csv\")"
   ]
  },
  {
   "cell_type": "code",
   "execution_count": null,
   "metadata": {
    "colab": {
     "base_uri": "https://localhost:8080/"
    },
    "id": "66k7fs8mnW3P",
    "outputId": "d6acadfd-0551-43cc-ac42-db1f6df852c4"
   },
   "outputs": [],
   "source": [
    "# Exploratory Data Analysis\n",
    "print(\"First 5 rows of the dataset:\\n\", df.head())"
   ]
  },
  {
   "cell_type": "code",
   "execution_count": null,
   "metadata": {
    "colab": {
     "base_uri": "https://localhost:8080/",
     "height": 363
    },
    "id": "ktvnyr_Tnr9q",
    "outputId": "39fc163d-ecd2-48f3-8c83-ecfc25c9b448"
   },
   "outputs": [],
   "source": [
    "df.tail(10)\n"
   ]
  },
  {
   "cell_type": "code",
   "execution_count": null,
   "metadata": {
    "colab": {
     "base_uri": "https://localhost:8080/",
     "height": 363
    },
    "id": "jTPZy498nwi2",
    "outputId": "339028c8-01c7-4781-b702-abfde7113221"
   },
   "outputs": [],
   "source": [
    "df.sample(10)\n"
   ]
  },
  {
   "cell_type": "code",
   "execution_count": null,
   "metadata": {
    "colab": {
     "base_uri": "https://localhost:8080/"
    },
    "id": "Hab4LANnnzhv",
    "outputId": "de9be4fb-f609-4bc5-f945-fb31bfea9702"
   },
   "outputs": [],
   "source": [
    "df.shape"
   ]
  },
  {
   "cell_type": "code",
   "execution_count": null,
   "metadata": {
    "colab": {
     "base_uri": "https://localhost:8080/",
     "height": 366
    },
    "id": "TBzOt61on162",
    "outputId": "e6761882-bf0b-4b3c-d73d-2db63ed49905"
   },
   "outputs": [],
   "source": [
    "df.dtypes"
   ]
  },
  {
   "cell_type": "code",
   "execution_count": null,
   "metadata": {
    "colab": {
     "base_uri": "https://localhost:8080/"
    },
    "id": "82_qUnuXn4Zy",
    "outputId": "d1aec9c2-a269-47dc-9d69-8f40a71c12cd"
   },
   "outputs": [],
   "source": [
    "df.info()"
   ]
  },
  {
   "cell_type": "code",
   "execution_count": null,
   "metadata": {
    "colab": {
     "base_uri": "https://localhost:8080/"
    },
    "id": "oDeJOIPOn68q",
    "outputId": "77bf8c01-bf2b-4717-b0ae-5bd1b2789b78"
   },
   "outputs": [],
   "source": [
    "print(\"\\nDataset statistics:\\n\", df.describe())"
   ]
  },
  {
   "cell_type": "code",
   "execution_count": null,
   "metadata": {
    "colab": {
     "base_uri": "https://localhost:8080/",
     "height": 423
    },
    "id": "4OsFwC8Tn-X4",
    "outputId": "5026670d-d9a2-4fba-cb3f-e11afd58f102"
   },
   "outputs": [],
   "source": [
    "# Data Cleaning\n",
    "df.drop_duplicates()"
   ]
  },
  {
   "cell_type": "code",
   "execution_count": null,
   "metadata": {
    "colab": {
     "base_uri": "https://localhost:8080/",
     "height": 366
    },
    "id": "xsACffXXoA_a",
    "outputId": "4544b1ef-ed99-4032-b4ac-67859c20940c"
   },
   "outputs": [],
   "source": [
    "df.isnull().sum()"
   ]
  },
  {
   "cell_type": "code",
   "execution_count": null,
   "metadata": {
    "colab": {
     "base_uri": "https://localhost:8080/",
     "height": 366
    },
    "id": "oQ2kq0_6oD21",
    "outputId": "fb01ae5a-1a92-47be-d84b-69761d0e6df5"
   },
   "outputs": [],
   "source": [
    "df.isna().sum()"
   ]
  },
  {
   "cell_type": "code",
   "execution_count": null,
   "metadata": {
    "colab": {
     "base_uri": "https://localhost:8080/"
    },
    "id": "DQI3osYxoGwU",
    "outputId": "374412a2-0d5e-4e38-b1dc-b8659f7bd27b"
   },
   "outputs": [],
   "source": [
    "# check number of zeroes\n",
    "print(\"No of zero  values in Insulin\",df[df['Insulin']==0].shape[0])"
   ]
  },
  {
   "cell_type": "code",
   "execution_count": null,
   "metadata": {
    "colab": {
     "base_uri": "https://localhost:8080/"
    },
    "id": "TO8sj6MQoWSr",
    "outputId": "ab9e5218-08d7-40cc-f08a-560110b7cf0b"
   },
   "outputs": [],
   "source": [
    "print(\"No of zero  values in Pregnancies\",df[df['Pregnancies']==0].shape[0])"
   ]
  },
  {
   "cell_type": "code",
   "execution_count": null,
   "metadata": {
    "id": "uRJnfSolohER"
   },
   "outputs": [],
   "source": [
    "# Replace zero values with mean\n",
    "# df['EstimatedSalary'].replace(0,df['EstimatedSalary'].mean(),inplace=True)"
   ]
  },
  {
   "cell_type": "code",
   "execution_count": null,
   "metadata": {
    "id": "2epiyNX7ooyZ"
   },
   "outputs": [],
   "source": [
    "# Separate target variable and features\n",
    "target_name = 'Outcome'\n",
    "target = df[target_name]\n",
    "data = df.drop(columns=[target_name])  # Dropping 'User ID' as it’s likely irrelevant"
   ]
  },
  {
   "cell_type": "code",
   "execution_count": null,
   "metadata": {
    "id": "v_64ji64pknr"
   },
   "outputs": [],
   "source": [
    "# Scale selected numerical features\n",
    "scaler = StandardScaler()\n",
    "data[['Glucose', 'Insulin', 'BMI', 'Age']] = scaler.fit_transform(data[['Glucose', 'Insulin', 'BMI', 'Age']])\n"
   ]
  },
  {
   "cell_type": "code",
   "execution_count": null,
   "metadata": {
    "id": "N1q__yOOrHmb"
   },
   "outputs": [],
   "source": [
    "# Train-test split\n",
    "X_train, X_test, y_train, y_test = train_test_split(data, target, test_size=0.2, random_state=42)"
   ]
  },
  {
   "cell_type": "code",
   "execution_count": null,
   "metadata": {
    "colab": {
     "base_uri": "https://localhost:8080/",
     "height": 80
    },
    "id": "5FVnOpRvrLlo",
    "outputId": "e3ffc272-6393-43e2-f95e-8640960a4873"
   },
   "outputs": [],
   "source": [
    "# Implement Naive Bayes algorithm\n",
    "nb = GaussianNB()\n",
    "nb.fit(X_train, y_train)"
   ]
  },
  {
   "cell_type": "code",
   "execution_count": null,
   "metadata": {
    "colab": {
     "base_uri": "https://localhost:8080/"
    },
    "id": "jSMIxfQkrTLp",
    "outputId": "d74d9f23-6395-4ccd-aafe-6b1bbc53eb38"
   },
   "outputs": [],
   "source": [
    "# Making Predictions\n",
    "nb_pred = nb.predict(X_test)\n",
    "nb_pred.shape"
   ]
  },
  {
   "cell_type": "code",
   "execution_count": null,
   "metadata": {
    "colab": {
     "base_uri": "https://localhost:8080/"
    },
    "id": "qxa3JVj5rXjN",
    "outputId": "beae1478-1bb6-4bcd-ba6d-ff9d98718342"
   },
   "outputs": [],
   "source": [
    "# Model evaluation\n",
    "print(\"Model Training Complete\")\n",
    "print(\"Train set accuracy:\", nb.score(X_train, y_train))\n",
    "print(\"Test set accuracy:\", nb.score(X_test, y_test))"
   ]
  },
  {
   "cell_type": "code",
   "execution_count": null,
   "metadata": {
    "colab": {
     "base_uri": "https://localhost:8080/"
    },
    "id": "ne7bT0jRrdG2",
    "outputId": "94af1278-3d47-4058-b312-e7d269f75513"
   },
   "outputs": [],
   "source": [
    "# Confusion matrix\n",
    "conf_matrix=confusion_matrix(y_test,nb_pred)\n",
    "print(\"Confusion Matrix:\\n\",conf_matrix)\n",
    "report=classification_report(y_test,nb_pred)\n",
    "print(\"Classification Report:\\n\",report)\n"
   ]
  }
 ],
 "metadata": {
  "colab": {
   "provenance": []
  },
  "kernelspec": {
   "display_name": "Python 3",
   "name": "python3"
  },
  "language_info": {
   "name": "python"
  }
 },
 "nbformat": 4,
 "nbformat_minor": 0
}
